{
 "cells": [
  {
   "cell_type": "code",
   "execution_count": 182,
   "metadata": {},
   "outputs": [],
   "source": [
    "import itertools\n",
    "\n",
    "with open('input.txt', 'r') as file:\n",
    "    lines = [\n",
    "        [tuple(list(map(int, part.split(\",\")))) for part in line.strip().split(\"~\")]\n",
    "        for line in file\n",
    "    ]\n",
    "\n",
    "lines = sorted(lines, key=lambda x: x[0][2])"
   ]
  },
  {
   "cell_type": "code",
   "execution_count": 256,
   "metadata": {},
   "outputs": [],
   "source": [
    "# Get coords of objects not moving\n",
    "maxx = max(part[0] for line in lines for part in line)\n",
    "maxy = max(part[1] for line in lines for part in line)\n",
    "taken_coords = [[(0, 0, 0), (maxx, maxy, 0)]]"
   ]
  },
  {
   "cell_type": "code",
   "execution_count": 257,
   "metadata": {},
   "outputs": [],
   "source": [
    "# Check if ground is empty below \n",
    "for line in lines:\n",
    "    item1, item2 = line\n",
    "\n",
    "    x = list(range(item1[0], item2[0] + 1))\n",
    "    y = list(range(item1[1], item2[1] + 1))\n",
    "    z = list(range(item1[2], item2[2] + 1))\n",
    "\n",
    "    coords = list(itertools.product(x, y, z))\n",
    "    breakflag = True\n",
    "    coords_below = set()\n",
    "\n",
    "\n",
    "    for c in coords:\n",
    "            x, y, z = c\n",
    "            for elem in taken_coords:\n",
    "                if min(elem[0][0], elem[1][0]) <= x <= max(elem[0][0], elem[1][0]):\n",
    "                    if min(elem[0][1], elem[1][1]) <= y <= max(elem[0][1], elem[1][1]):\n",
    "                        maxz = max(elem[0][2], elem[1][2])\n",
    "                        if maxz < z :\n",
    "                            coords_below.add(maxz)\n",
    "\n",
    "\n",
    "    maxz = [max(0, coord) for coord in coords_below][0]\n",
    "\n",
    "    new_coords = [(item1[0], item1[1], max(maxz + 1, item1[2])), (item2[0], item2[1], max(maxz + 1, item2[2]))]\n",
    "    taken_coords.append(line)"
   ]
  },
  {
   "cell_type": "code",
   "execution_count": 253,
   "metadata": {},
   "outputs": [],
   "source": [
    "    for c in coords:\n",
    "        if breakflag == 1:\n",
    "            x, y, z = c\n",
    "item1, item2 = taken_coords[-1]\n",
    "# Check space above coords\n",
    "check_coords = [(item1[0], item1[1], item1[2] + 1), (item2[0], item2[1], item2[2] + 1)]\n",
    "\n",
    "\n",
    "x = list(range(item1[0], item2[0] + 1))\n",
    "y = list(range(item1[1], item2[1] + 1))\n",
    "z = list(range(item1[2], item2[2] + 1))\n",
    "\n",
    "coords = list(itertools.product(x, y, z))\n",
    "\n",
    "for elem in taken_coords:\n",
    "    if min(elem[0][0], elem[1][0]) <= x <= max(elem[0][0], elem[1][0]):\n",
    "        if min(elem[0][1], elem[1][1]) <= y <= max(elem[0][1], elem[1][1]):\n",
    "            maxz = max(elem[0][2], elem[1][2])\n",
    "            if maxz < z :\n",
    "                coords_below.add(maxz)"
   ]
  },
  {
   "cell_type": "code",
   "execution_count": 254,
   "metadata": {},
   "outputs": [
    {
     "data": {
      "text/plain": [
       "[(3, 7, 302), (3, 9, 302)]"
      ]
     },
     "execution_count": 254,
     "metadata": {},
     "output_type": "execute_result"
    }
   ],
   "source": [
    "check_coords"
   ]
  }
 ],
 "metadata": {
  "kernelspec": {
   "display_name": "Python 3",
   "language": "python",
   "name": "python3"
  },
  "language_info": {
   "codemirror_mode": {
    "name": "ipython",
    "version": 3
   },
   "file_extension": ".py",
   "mimetype": "text/x-python",
   "name": "python",
   "nbconvert_exporter": "python",
   "pygments_lexer": "ipython3",
   "version": "3.11.9"
  }
 },
 "nbformat": 4,
 "nbformat_minor": 2
}
