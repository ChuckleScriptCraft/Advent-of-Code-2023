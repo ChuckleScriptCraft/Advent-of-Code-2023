{
 "cells": [
  {
   "cell_type": "markdown",
   "metadata": {},
   "source": [
    "# Advent of code day 18"
   ]
  },
  {
   "cell_type": "code",
   "execution_count": 1,
   "metadata": {},
   "outputs": [],
   "source": [
    "with open('input.txt', 'r') as file:\n",
    "    lines = [line.strip().split() for line in file]\n",
    "\n",
    "movement = {\"R\" : [(1,0)], \"L\" : [(-1,0)], \"U\" : [(0,-1)], \"D\" : [(0,1)]}"
   ]
  },
  {
   "cell_type": "code",
   "execution_count": 60,
   "metadata": {},
   "outputs": [],
   "source": [
    "coords = (0,0)\n",
    "vertex = [coords]\n",
    "value_store = 0\n",
    "for line in lines:\n",
    "    value = int(line[1])\n",
    "    direction = movement[line[0]]\n",
    "    move = [(x*value, y*value) for x,y in direction]\n",
    "    coords = (move[0][0] + coords[0], move[0][1] + coords[1])\n",
    "    vertex.append(coords)\n",
    "    value_store += value"
   ]
  },
  {
   "cell_type": "code",
   "execution_count": 65,
   "metadata": {},
   "outputs": [
    {
     "data": {
      "text/plain": [
       "74074.0"
      ]
     },
     "execution_count": 65,
     "metadata": {},
     "output_type": "execute_result"
    }
   ],
   "source": [
    "def polygon_area(coords):\n",
    "    n = len(coords)  # Number of vertices\n",
    "    area = 0.0\n",
    "    \n",
    "    # Calculate the sum of (x_i * y_{i+1} - y_i * x_{i+1})\n",
    "    for i in range(n):\n",
    "        x1, y1 = coords[i]\n",
    "        x2, y2 = coords[(i + 1) % n]  # Next vertex, with wrap-around using modulo operator\n",
    "        area += x1 * y2 - y1 * x2\n",
    "    \n",
    "    # Take the absolute value and divide by 2\n",
    "    area = abs(area) / 2.0\n",
    "    return area\n",
    "\n",
    "# Calculate the area\n",
    "area = polygon_area(vertex)\n",
    "area + value_store/2 + 1"
   ]
  }
 ],
 "metadata": {
  "kernelspec": {
   "display_name": "Python 3",
   "language": "python",
   "name": "python3"
  },
  "language_info": {
   "codemirror_mode": {
    "name": "ipython",
    "version": 3
   },
   "file_extension": ".py",
   "mimetype": "text/x-python",
   "name": "python",
   "nbconvert_exporter": "python",
   "pygments_lexer": "ipython3",
   "version": "3.11.9"
  }
 },
 "nbformat": 4,
 "nbformat_minor": 2
}
