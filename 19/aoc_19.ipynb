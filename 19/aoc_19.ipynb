{
 "cells": [
  {
   "cell_type": "markdown",
   "metadata": {},
   "source": [
    "# AOC Day 19"
   ]
  },
  {
   "cell_type": "code",
   "execution_count": 247,
   "metadata": {},
   "outputs": [],
   "source": [
    "with open('input.txt', 'r') as file:\n",
    "    lines = [line.strip().split() for line in file]"
   ]
  },
  {
   "cell_type": "code",
   "execution_count": 248,
   "metadata": {},
   "outputs": [],
   "source": [
    "empty_list_index = [index for index, sublist in enumerate(lines) if sublist == []][0]\n",
    "\n",
    "workflow = [line[0] for line in lines[:empty_list_index]]\n",
    "rating = [line[0] for line in lines[(empty_list_index + 1):]]"
   ]
  },
  {
   "cell_type": "code",
   "execution_count": 249,
   "metadata": {},
   "outputs": [],
   "source": [
    "import re\n",
    "def extract_rating_numeric(rating_item, letter):\n",
    "    pattern = f'{letter}=(\\d+)'\n",
    "    match = re.search(pattern, rating_item)\n",
    "    return match.group(1)"
   ]
  },
  {
   "cell_type": "code",
   "execution_count": 250,
   "metadata": {},
   "outputs": [],
   "source": [
    "def extract_workflow_name(workflow_item):\n",
    "    pattern = r\"(.*?)\\{\"\n",
    "    match = re.search(pattern, workflow_item)\n",
    "    return match.group(1)"
   ]
  },
  {
   "cell_type": "code",
   "execution_count": 251,
   "metadata": {},
   "outputs": [],
   "source": [
    "def extract_workflow_substrings(workflow_item):\n",
    "    pattern = r\"[{,]([^,}]+)\"\n",
    "    matches = re.findall(pattern, workflow_item)\n",
    "    return matches"
   ]
  },
  {
   "cell_type": "code",
   "execution_count": 252,
   "metadata": {},
   "outputs": [],
   "source": [
    "def compare_integers(num1, num2, comp_char):\n",
    "    if comp_char == '>':\n",
    "        return num1 > num2\n",
    "    elif comp_char == '<':\n",
    "        return num1 < num2"
   ]
  },
  {
   "cell_type": "code",
   "execution_count": 253,
   "metadata": {},
   "outputs": [],
   "source": [
    "def extract_workflow_return(workflow_item):\n",
    "    pattern = r\":(.*)\"\n",
    "    match = re.search(pattern, workflow_item).group(1)\n",
    "    return match"
   ]
  },
  {
   "cell_type": "code",
   "execution_count": 254,
   "metadata": {},
   "outputs": [],
   "source": [
    "def sum_rating_digits(rating_item):\n",
    "    digits = re.findall(r'\\d+', rating_item)\n",
    "    return sum(int(digit) for digit in digits)"
   ]
  },
  {
   "cell_type": "code",
   "execution_count": 255,
   "metadata": {},
   "outputs": [],
   "source": [
    "def get_return_value(rating_item, workflow_name):\n",
    "    for w in workflow:\n",
    "    \n",
    "        name = extract_workflow_name(w)\n",
    "        \n",
    "        if name == workflow_name:\n",
    "            \n",
    "            substrings = extract_workflow_substrings(w)    \n",
    "            \n",
    "            for s in substrings:\n",
    "                \n",
    "                if ':' in s:\n",
    "                    \n",
    "                    char = s[0]\n",
    "                    comparator = s[1]\n",
    "                    workflow_value = int(re.search(r'(\\d+)', s).group(0))\n",
    "                    \n",
    "                    rating_value = int(extract_rating_numeric(rating_item, char))\n",
    "                    \n",
    "                    if compare_integers(rating_value, workflow_value, comparator):\n",
    "                        \n",
    "                        return_value = extract_workflow_return(s)\n",
    "                        \n",
    "                        break\n",
    "                else: \n",
    "                    \n",
    "                    return_value = s\n",
    "    \n",
    "    return return_value"
   ]
  },
  {
   "cell_type": "code",
   "execution_count": 257,
   "metadata": {},
   "outputs": [
    {
     "name": "stdout",
     "output_type": "stream",
     "text": [
      "353046\n"
     ]
    }
   ],
   "source": [
    "partone = 0\n",
    "for rating_item in rating:\n",
    "    workflow_name = \"in\"\n",
    "\n",
    "    while True:\n",
    "        workflow_name = get_return_value(rating_item, workflow_name)\n",
    "        if workflow_name == \"A\":\n",
    "            \n",
    "            sum_value = sum_rating_digits(rating_item)\n",
    "            partone += sum_value\n",
    "            break\n",
    "        \n",
    "        if workflow_name == \"R\":\n",
    "            break\n",
    "\n",
    "print(partone)"
   ]
  }
 ],
 "metadata": {
  "kernelspec": {
   "display_name": "Python 3",
   "language": "python",
   "name": "python3"
  },
  "language_info": {
   "codemirror_mode": {
    "name": "ipython",
    "version": 3
   },
   "file_extension": ".py",
   "mimetype": "text/x-python",
   "name": "python",
   "nbconvert_exporter": "python",
   "pygments_lexer": "ipython3",
   "version": "3.11.9"
  }
 },
 "nbformat": 4,
 "nbformat_minor": 2
}
