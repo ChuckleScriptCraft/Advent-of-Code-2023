{
 "cells": [
  {
   "cell_type": "code",
   "execution_count": null,
   "metadata": {},
   "outputs": [],
   "source": [
    "from collections import deque\n"
   ]
  },
  {
   "cell_type": "code",
   "execution_count": null,
   "metadata": {},
   "outputs": [],
   "source": [
    "with open('input.txt', 'r') as file:\n",
    "    lines = [line.strip().replace(',', '').split() for line in file]"
   ]
  },
  {
   "cell_type": "code",
   "execution_count": null,
   "metadata": {},
   "outputs": [],
   "source": [
    "plot_coords = []\n",
    "rock_coords = []\n",
    "start_coords = []\n",
    "\n",
    "store_dictionary = {'S':'start', '#':'rock', '.':'plot'}\n",
    "\n",
    "for i1 in range(len(lines)):\n",
    "    for i2 in range(len(lines[i1][0])):\n",
    "        char = lines[i1][0][i2]\n",
    "        globals()[store_dictionary[char] + '_coords'].append((i2,i1))\n",
    "        \n",
    "plot_coords.append(start_coords[0])\n",
    "\n",
    "nodes = {}\n",
    "\n",
    "for entry in plot_coords:\n",
    "    x,y = entry\n",
    "    combinations = [(x, y+1), (x+1, y), (x, y-1), (x-1,y)]\n",
    "    combinations = [combination for combination in combinations if combination in plot_coords]\n",
    "    nodes[entry] = combinations"
   ]
  },
  {
   "cell_type": "code",
   "execution_count": 267,
   "metadata": {},
   "outputs": [
    {
     "name": "stdout",
     "output_type": "stream",
     "text": [
      "3591\n"
     ]
    }
   ],
   "source": [
    "def bfs_with_max_steps(graph, start, max_steps):\n",
    "    queue = deque([(start, 0)])\n",
    "    \n",
    "    visited_at_level = {start: 0}\n",
    "    \n",
    "    result = []\n",
    "    \n",
    "    while queue:\n",
    "        node, steps = queue.popleft()\n",
    "        \n",
    "        if steps <= max_steps:\n",
    "            result.append((node, steps))\n",
    "        \n",
    "        if steps >= max_steps:\n",
    "            continue\n",
    "        \n",
    "        for neighbor in graph[node]:\n",
    "            if neighbor not in visited_at_level or visited_at_level[neighbor] > steps + 1:\n",
    "                visited_at_level[neighbor] = steps + 1\n",
    "                queue.append((neighbor, steps + 1))\n",
    "    \n",
    "    return result\n",
    "\n",
    "ans = bfs_with_max_steps(nodes, start_coords[0], 64)\n",
    "\n",
    "p1  = []\n",
    "for a in ans:\n",
    "    if a[1] % 2 == 0:\n",
    "        p1.append(a[0])\n",
    "        \n",
    "print(len(p1))"
   ]
  }
 ],
 "metadata": {
  "kernelspec": {
   "display_name": "Python 3",
   "language": "python",
   "name": "python3"
  },
  "language_info": {
   "codemirror_mode": {
    "name": "ipython",
    "version": 3
   },
   "file_extension": ".py",
   "mimetype": "text/x-python",
   "name": "python",
   "nbconvert_exporter": "python",
   "pygments_lexer": "ipython3",
   "version": "3.11.9"
  }
 },
 "nbformat": 4,
 "nbformat_minor": 2
}
