{
 "cells": [
  {
   "cell_type": "code",
   "execution_count": 67,
   "metadata": {},
   "outputs": [],
   "source": [
    "with open('input.txt', 'r') as file:\n",
    "    lines = [line.strip().split() for line in file]\n",
    "\n",
    "for i, line in enumerate(lines):\n",
    "    lines[i] = list(line[0].replace(\"\\\\\", \"¬\"))"
   ]
  },
  {
   "cell_type": "markdown",
   "metadata": {},
   "source": [
    "## Define unique properties of chars"
   ]
  },
  {
   "cell_type": "code",
   "execution_count": 69,
   "metadata": {},
   "outputs": [],
   "source": [
    "slash_dictionary = {\"south\" : \"west\",\"west\" : \"south\", \"east\" : \"north\", \"north\" : \"east\"}\n",
    "gun_dictionary = {\"south\" : \"east\", \"east\" : \"south\", \"north\" : \"west\", \"west\" : \"north\"}"
   ]
  },
  {
   "cell_type": "code",
   "execution_count": 383,
   "metadata": {},
   "outputs": [],
   "source": [
    "max_position = len(lines)\n",
    "\n",
    "def player_move(starting_position, input_direction):\n",
    "    end_position = starting_position\n",
    "    if input_direction == \"north\":\n",
    "        end_position[0] -= 1\n",
    "    elif input_direction == \"south\":\n",
    "        end_position[0] += 1\n",
    "    elif input_direction == \"west\":\n",
    "        end_position[1] -= 1\n",
    "    elif input_direction == \"east\":\n",
    "        end_position[1] += 1\n",
    "    \n",
    "    # Is end position out of bounds\n",
    "    if max(end_position) >= max_position or min(end_position) < 0:\n",
    "        global breakflag\n",
    "        breakflag = False\n",
    "    else:\n",
    "        coord_store.append(end_position)\n",
    "        return end_position"
   ]
  },
  {
   "cell_type": "code",
   "execution_count": 193,
   "metadata": {},
   "outputs": [],
   "source": [
    "slash_dictionary = {\"south\" : \"west\",\"west\" : \"south\", \"east\" : \"north\", \"north\" : \"east\"}\n",
    "gun_dictionary = {\"south\" : \"east\", \"east\" : \"south\", \"north\" : \"west\", \"west\" : \"north\"}"
   ]
  },
  {
   "cell_type": "code",
   "execution_count": 305,
   "metadata": {},
   "outputs": [],
   "source": [
    "secondary_coord_dump = []\n",
    "\n",
    "def player_behave(starting_position, input_direction):\n",
    "    char = lines[starting_position[0]][starting_position[1]]\n",
    "    \n",
    "    # If char is a blank\n",
    "    if char == '.':\n",
    "        # Nothing happens\n",
    "        return input_direction\n",
    "    if char == '/':\n",
    "        return slash_dictionary[input_direction]\n",
    "    if char == '¬':\n",
    "        return gun_dictionary[input_direction]\n",
    "    if char == '|':\n",
    "        if input_direction in [\"north\", \"south\"]:\n",
    "            return input_direction\n",
    "        else:\n",
    "            ##\n",
    "            secondary_coord_dump.append([starting_position, \"south\"])\n",
    "            return \"north\"\n",
    "    if char == '-':\n",
    "        if input_direction in [\"east\", \"west\"]:\n",
    "            return input_direction\n",
    "        else:\n",
    "            ##\n",
    "            secondary_coord_dump.append([starting_position, \"east\"])\n",
    "            return \"west\""
   ]
  },
  {
   "cell_type": "code",
   "execution_count": 349,
   "metadata": {},
   "outputs": [],
   "source": [
    "starting_position = [0,-1]\n",
    "input_direction = \"east\"\n",
    "coord_store = []"
   ]
  },
  {
   "cell_type": "code",
   "execution_count": 384,
   "metadata": {},
   "outputs": [],
   "source": [
    "secondary_coord_dump = [[[0, -1], 'east']]\n",
    "breakflag = True\n",
    "coord_store = []\n",
    "\n",
    "while len(secondary_coord_dump) > 0:\n",
    "\n",
    "    starting_position = secondary_coord_dump[0][0]\n",
    "    input_direction = secondary_coord_dump[0][1]\n",
    "    del secondary_coord_dump[0]\n",
    "\n",
    "    while True:\n",
    "        starting_position = player_move(starting_position, input_direction)\n",
    "        if breakflag == False:\n",
    "            breakflag = True\n",
    "            break\n",
    "        input_direction = player_behave(starting_position, input_direction)"
   ]
  }
 ],
 "metadata": {
  "kernelspec": {
   "display_name": "Python 3",
   "language": "python",
   "name": "python3"
  },
  "language_info": {
   "codemirror_mode": {
    "name": "ipython",
    "version": 3
   },
   "file_extension": ".py",
   "mimetype": "text/x-python",
   "name": "python",
   "nbconvert_exporter": "python",
   "pygments_lexer": "ipython3",
   "version": "3.11.9"
  }
 },
 "nbformat": 4,
 "nbformat_minor": 2
}
