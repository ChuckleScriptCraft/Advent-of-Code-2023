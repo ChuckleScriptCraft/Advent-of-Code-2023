{
 "cells": [
  {
   "cell_type": "markdown",
   "metadata": {},
   "source": [
    "# AOC Day 25"
   ]
  },
  {
   "cell_type": "code",
   "execution_count": 2,
   "metadata": {},
   "outputs": [],
   "source": [
    "with open('input.txt', 'r') as file:\n",
    "    lines = [line.strip().split() for line in file]\n",
    "\n",
    "for i, line in enumerate(lines):\n",
    "    lines[i][0] = line[0][:-1]"
   ]
  },
  {
   "cell_type": "code",
   "execution_count": 3,
   "metadata": {},
   "outputs": [],
   "source": [
    "adj_list = {}\n",
    "for line in lines:\n",
    "    adj_list[line[0]] = line[1:]\n"
   ]
  },
  {
   "cell_type": "code",
   "execution_count": 4,
   "metadata": {},
   "outputs": [],
   "source": [
    "clean = set()\n",
    "for line in lines:\n",
    "    for elem in line:\n",
    "        clean.add(elem)\n",
    "\n",
    "lookup = {}\n",
    "for i, v in enumerate(list(clean)):\n",
    "    lookup[v] = i\n"
   ]
  },
  {
   "cell_type": "code",
   "execution_count": 5,
   "metadata": {},
   "outputs": [],
   "source": [
    "lines1= []\n",
    "for line in lines:\n",
    "    value = lookup[line[0]]\n",
    "    for elem in line[1:]:\n",
    "        val = lookup[elem]\n",
    "        edge = (value, val)\n",
    "        lines1.append(edge)"
   ]
  },
  {
   "cell_type": "code",
   "execution_count": 45,
   "metadata": {},
   "outputs": [],
   "source": [
    "import random\n",
    "import copy\n",
    "\n",
    "def karger_min_cut(graph):\n",
    "    edges = copy.deepcopy(graph.edges)\n",
    "    nodes = copy.deepcopy(graph.nodes)\n",
    "    \n",
    "    cuts_made = []\n",
    "    while len(nodes) > 2:\n",
    "        \n",
    "        # Pick random edge\n",
    "        u, v = random.choice(edges)\n",
    "        cuts_made.append((u,v))\n",
    "        # Merge u into v\n",
    "        nodes.remove(u)\n",
    "        \n",
    "        # Contract edges\n",
    "        new_edges = []\n",
    "        for edge in edges:\n",
    "            if edge[0] == u:\n",
    "                new_edge = (v, edge[1])\n",
    "            elif edge[1] == u:\n",
    "                new_edge = (edge[0], v)\n",
    "            else:\n",
    "                new_edge = edge\n",
    "            \n",
    "            # Remvoe self loops\n",
    "            if new_edge[0] != new_edge[1]:\n",
    "                new_edges.append(new_edge)\n",
    "        \n",
    "        \n",
    "        edges = new_edges\n",
    "    \n",
    "    # The remaining edges are the cuts in the graph\n",
    "    return len(edges), nodes  # Return the number of edges between the last two nodes\n"
   ]
  },
  {
   "cell_type": "code",
   "execution_count": 51,
   "metadata": {},
   "outputs": [],
   "source": [
    "class Graph:\n",
    "    def __init__(self, edges):\n",
    "        self.edges = edges\n",
    "        self.nodes = set([y for x in lines1 for y in x])\n",
    "\n",
    "graph = Graph(lines1)\n",
    "\n",
    "while True:\n",
    "    cuts, nodes  = karger_min_cut(graph)\n",
    "    if cuts == 3:\n",
    "        break"
   ]
  },
  {
   "cell_type": "code",
   "execution_count": 50,
   "metadata": {},
   "outputs": [
    {
     "data": {
      "text/plain": [
       "4"
      ]
     },
     "execution_count": 50,
     "metadata": {},
     "output_type": "execute_result"
    }
   ],
   "source": [
    "cuts"
   ]
  }
 ],
 "metadata": {
  "kernelspec": {
   "display_name": "Python 3",
   "language": "python",
   "name": "python3"
  },
  "language_info": {
   "codemirror_mode": {
    "name": "ipython",
    "version": 3
   },
   "file_extension": ".py",
   "mimetype": "text/x-python",
   "name": "python",
   "nbconvert_exporter": "python",
   "pygments_lexer": "ipython3",
   "version": "3.11.9"
  }
 },
 "nbformat": 4,
 "nbformat_minor": 2
}
